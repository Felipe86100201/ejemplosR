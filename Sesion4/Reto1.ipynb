{
  "nbformat": 4,
  "nbformat_minor": 0,
  "metadata": {
    "colab": {
      "provenance": [],
      "authorship_tag": "ABX9TyMbJolbnbCdfh+DTUn48oAp",
      "include_colab_link": true
    },
    "kernelspec": {
      "name": "ir",
      "display_name": "R"
    },
    "language_info": {
      "name": "R"
    }
  },
  "cells": [
    {
      "cell_type": "markdown",
      "metadata": {
        "id": "view-in-github",
        "colab_type": "text"
      },
      "source": [
        "<a href=\"https://colab.research.google.com/github/caballeroarturo/ejemplosR/blob/main/Sesion4/Reto1.ipynb\" target=\"_parent\"><img src=\"https://colab.research.google.com/assets/colab-badge.svg\" alt=\"Open In Colab\"/></a>"
      ]
    },
    {
      "cell_type": "markdown",
      "source": [
        "# Repaso"
      ],
      "metadata": {
        "id": "ELCCgmuXoIDL"
      }
    },
    {
      "cell_type": "markdown",
      "source": [
        "[Fuente](https://fhernanb.github.io/Manual-de-R/discretas.html)"
      ],
      "metadata": {
        "id": "2T2mGmgEoM2e"
      }
    },
    {
      "cell_type": "markdown",
      "source": [
        "Para cada distribución discreta se tienen 4 funciones, a continuación el listado de funciones y su utilidad.\n"
      ],
      "metadata": {
        "id": "T10cx4uqoW23"
      }
    },
    {
      "cell_type": "markdown",
      "source": [
        "*   Función de masa de probabilidad, **P(X=x)**\n",
        "\n",
        "    `dxxx(x, ...)  `\n",
        "*   Función de distribución acumulada hasta q, **P(X < x)**\n",
        "\n",
        "    `pxxx(q, ...)  `\n",
        "*   Cuantil para el cual **P(X <= q) = p**\n",
        "\n",
        "    `qxxx(p, ...)  `\n",
        "*   Generador de números aleatorios, **Recrear un experimento n-veces**\n",
        "\n",
        "    `rxxx(n, ...)  `"
      ],
      "metadata": {
        "id": "JhqrHi5Zosi7"
      }
    },
    {
      "cell_type": "markdown",
      "source": [
        "# Reto 1"
      ],
      "metadata": {
        "id": "FXcQbclqqCis"
      }
    },
    {
      "cell_type": "markdown",
      "source": [
        "\n",
        "#### Objetivo\n",
        "\n",
        "- Calcular probabilidades utilizando la distribución binomial.\n",
        "\n",
        "#### Requisitos\n",
        "\n",
        "- Haber trabajado con el Prework y el Work\n",
        "\n",
        "#### Desarrollo\n",
        "\n",
        "Una maquina de ensamblaje, tiene una probabilidad de 0.15 de ensamblar de forma\n",
        "defectuosa una una unidad. Si la producción de una unidad es totaltamente independiente\n",
        "de las demás y al día se producen 10 unidades:\n",
        "```R\n",
        "set.seed(0202)\n",
        "```\n",
        "\n",
        "a) Grafica la función de distribución de la variable aleatoria. (Supon que se obtienen\n",
        "10,000 muestras)\n",
        "\n",
        "b) ¿Cuál es la probabilidad de que se produzcan dos unidades defectuosas?\n",
        "\n",
        "c) ¿Cuál es la probabilidad de que a lo mucho 4 unidades sean defectuosas?\n",
        "\n",
        "d) ¿Cuál es la probabiliad de que por lo menos tres unidades se encuentren defectuosa?\n",
        "\n",
        "e) ¿Cuál es la probabilidad de que entre 2 y 4 unidades se encuentren defectuosas?\n",
        "\n",
        "f) ¿Cuál es el número esperado de unidades defectuosas? ¿Con qué variación?\n"
      ],
      "metadata": {
        "id": "xQLtZFU_p2iV"
      }
    },
    {
      "cell_type": "code",
      "source": [
        "set.seed(0202)"
      ],
      "metadata": {
        "id": "qIKQsZW9qugI"
      },
      "execution_count": 4,
      "outputs": []
    },
    {
      "cell_type": "code",
      "source": [
        "# prob = 0.15  de ensamblar de forma defectuosa\n",
        "# size = 10  ya q al día se producen 10 unidades\n",
        "# n= 10,000 ya que se producen 10,000 muestras\n",
        "# se usa rbinom para recrear el experimento las 10,000 veces\n",
        "\n",
        "binom <- rbinom(n = 10000, size = 10, prob = 0.15)"
      ],
      "metadata": {
        "id": "tXNi_7MeqxNl"
      },
      "execution_count": 5,
      "outputs": []
    },
    {
      "cell_type": "code",
      "source": [
        "# b) ¿Cuál es la probabilidad de que se produzcan dos unidades defectuosas?\n",
        "\n",
        "# P(X=2)\n",
        "\n",
        "dbinom(x = 2, size = 10, prob = 0.15)"
      ],
      "metadata": {
        "id": "VZSOwPWaJqQ_",
        "outputId": "20b55b22-1380-4e68-8571-c1e4a7ebc02c",
        "colab": {
          "base_uri": "https://localhost:8080/",
          "height": 34
        }
      },
      "execution_count": 6,
      "outputs": [
        {
          "output_type": "display_data",
          "data": {
            "text/html": [
              "0.275896656602051"
            ],
            "text/markdown": "0.275896656602051",
            "text/latex": "0.275896656602051",
            "text/plain": [
              "[1] 0.2758967"
            ]
          },
          "metadata": {}
        }
      ]
    },
    {
      "cell_type": "code",
      "source": [
        "mean(binom)\n",
        "sd(binom)"
      ],
      "metadata": {
        "id": "_vD-rjphLbGp",
        "outputId": "0108d9d8-5e50-4613-8c63-3778c15de679",
        "colab": {
          "base_uri": "https://localhost:8080/",
          "height": 52
        }
      },
      "execution_count": 7,
      "outputs": [
        {
          "output_type": "display_data",
          "data": {
            "text/html": [
              "1.4901"
            ],
            "text/markdown": "1.4901",
            "text/latex": "1.4901",
            "text/plain": [
              "[1] 1.4901"
            ]
          },
          "metadata": {}
        },
        {
          "output_type": "display_data",
          "data": {
            "text/html": [
              "1.13535496347588"
            ],
            "text/markdown": "1.13535496347588",
            "text/latex": "1.13535496347588",
            "text/plain": [
              "[1] 1.135355"
            ]
          },
          "metadata": {}
        }
      ]
    },
    {
      "cell_type": "markdown",
      "source": [
        "*   E[X] = size*p\n",
        "*   SD[X] = sqrt(size*p*(1-p))"
      ],
      "metadata": {
        "id": "VsRAPI88Lff-"
      }
    },
    {
      "cell_type": "code",
      "source": [
        "# esperanza\n",
        "\n",
        "size_prob = 10*0.15\n",
        "size_prob"
      ],
      "metadata": {
        "id": "-6HRISmnLcoN",
        "outputId": "c85ce2b0-94d0-40e6-a307-c6d0a6405791",
        "colab": {
          "base_uri": "https://localhost:8080/",
          "height": 34
        }
      },
      "execution_count": 10,
      "outputs": [
        {
          "output_type": "display_data",
          "data": {
            "text/html": [
              "1.5"
            ],
            "text/markdown": "1.5",
            "text/latex": "1.5",
            "text/plain": [
              "[1] 1.5"
            ]
          },
          "metadata": {}
        }
      ]
    },
    {
      "cell_type": "code",
      "source": [
        "\"a) Grafica la función de distribución de la variable aleatoria. (Asume que se obtienen\n",
        "10,000 muestras)\"\n",
        "binom <- rbinom(n = 10000, size = 10, prob = 0.15)\n",
        "barplot(table(binom)/length(binom),\n",
        "        main = \"Distribución Binomial\",\n",
        "        xlab = \"# unidades defectuosas\")\n",
        "\n",
        "\"b) ¿Cuál es la probabilidad de que se produzcan dos unidades defectuosas?\"\n",
        "dbinom(x = 2, size = 10, prob = 0.15)\n",
        "\n",
        "\"c) ¿Cuál es la probabilidad de que a lo mucho 4 unidades sean defectuosas?\"\n",
        "pbinom(q = 4, size = 10, prob = 0.15)\n",
        "\n",
        "\"d) ¿Cuál es la probabiliad de que por lo menos tres unidades se encuentren defectuosa?\"\n",
        "1 - pbinom(q = 2, size = 10, prob = 0.15)\n",
        "\n",
        "\"e) ¿Cuál es la probabilidad de que entre 2 y 4 unidades se encuentren defectuosas\"\n",
        "pbinom(q = 4, size = 10, prob = 0.15) - pbinom(q = 2, size = 10, prob = 0.15)\n",
        "\n",
        "\"f) ¿Cuál es el número esperado de unidades defectuosas? ¿Con qué variación?\"\n",
        "mean(binom)\n",
        "sd(binom)"
      ],
      "metadata": {
        "id": "4lHTSXRuLjQY",
        "outputId": "327b11b6-f0cc-4155-c7aa-f888cff5931a",
        "colab": {
          "base_uri": "https://localhost:8080/",
          "height": 645
        }
      },
      "execution_count": 11,
      "outputs": [
        {
          "output_type": "display_data",
          "data": {
            "text/html": [
              "'a) Grafica la función de distribución de la variable aleatoria. (Asume que se obtienen \\n10,000 muestras)'"
            ],
            "text/markdown": "'a) Grafica la función de distribución de la variable aleatoria. (Asume que se obtienen \\n10,000 muestras)'",
            "text/latex": "'a) Grafica la función de distribución de la variable aleatoria. (Asume que se obtienen \\textbackslash{}n10,000 muestras)'",
            "text/plain": [
              "[1] \"a) Grafica la función de distribución de la variable aleatoria. (Asume que se obtienen \\n10,000 muestras)\""
            ]
          },
          "metadata": {}
        },
        {
          "output_type": "display_data",
          "data": {
            "text/html": [
              "'b) ¿Cuál es la probabilidad de que se produzcan dos unidades defectuosas?'"
            ],
            "text/markdown": "'b) ¿Cuál es la probabilidad de que se produzcan dos unidades defectuosas?'",
            "text/latex": "'b) ¿Cuál es la probabilidad de que se produzcan dos unidades defectuosas?'",
            "text/plain": [
              "[1] \"b) ¿Cuál es la probabilidad de que se produzcan dos unidades defectuosas?\""
            ]
          },
          "metadata": {}
        },
        {
          "output_type": "display_data",
          "data": {
            "text/html": [
              "0.275896656602051"
            ],
            "text/markdown": "0.275896656602051",
            "text/latex": "0.275896656602051",
            "text/plain": [
              "[1] 0.2758967"
            ]
          },
          "metadata": {}
        },
        {
          "output_type": "display_data",
          "data": {
            "text/html": [
              "'c) ¿Cuál es la probabilidad de que a lo mucho 4 unidades sean defectuosas?'"
            ],
            "text/markdown": "'c) ¿Cuál es la probabilidad de que a lo mucho 4 unidades sean defectuosas?'",
            "text/latex": "'c) ¿Cuál es la probabilidad de que a lo mucho 4 unidades sean defectuosas?'",
            "text/plain": [
              "[1] \"c) ¿Cuál es la probabilidad de que a lo mucho 4 unidades sean defectuosas?\""
            ]
          },
          "metadata": {}
        },
        {
          "output_type": "display_data",
          "data": {
            "text/html": [
              "0.990125909001367"
            ],
            "text/markdown": "0.990125909001367",
            "text/latex": "0.990125909001367",
            "text/plain": [
              "[1] 0.9901259"
            ]
          },
          "metadata": {}
        },
        {
          "output_type": "display_data",
          "data": {
            "text/html": [
              "'d) ¿Cuál es la probabiliad de que por lo menos tres unidades se encuentren defectuosa?'"
            ],
            "text/markdown": "'d) ¿Cuál es la probabiliad de que por lo menos tres unidades se encuentren defectuosa?'",
            "text/latex": "'d) ¿Cuál es la probabiliad de que por lo menos tres unidades se encuentren defectuosa?'",
            "text/plain": [
              "[1] \"d) ¿Cuál es la probabiliad de que por lo menos tres unidades se encuentren defectuosa?\""
            ]
          },
          "metadata": {}
        },
        {
          "output_type": "display_data",
          "data": {
            "text/html": [
              "0.179803519632422"
            ],
            "text/markdown": "0.179803519632422",
            "text/latex": "0.179803519632422",
            "text/plain": [
              "[1] 0.1798035"
            ]
          },
          "metadata": {}
        },
        {
          "output_type": "display_data",
          "data": {
            "text/html": [
              "'e) ¿Cuál es la probabilidad de que entre 2 y 4 unidades se encuentren defectuosas'"
            ],
            "text/markdown": "'e) ¿Cuál es la probabilidad de que entre 2 y 4 unidades se encuentren defectuosas'",
            "text/latex": "'e) ¿Cuál es la probabilidad de que entre 2 y 4 unidades se encuentren defectuosas'",
            "text/plain": [
              "[1] \"e) ¿Cuál es la probabilidad de que entre 2 y 4 unidades se encuentren defectuosas\""
            ]
          },
          "metadata": {}
        },
        {
          "output_type": "display_data",
          "data": {
            "text/html": [
              "0.169929428633789"
            ],
            "text/markdown": "0.169929428633789",
            "text/latex": "0.169929428633789",
            "text/plain": [
              "[1] 0.1699294"
            ]
          },
          "metadata": {}
        },
        {
          "output_type": "display_data",
          "data": {
            "text/html": [
              "'f) ¿Cuál es el número esperado de unidades defectuosas? ¿Con qué variación?'"
            ],
            "text/markdown": "'f) ¿Cuál es el número esperado de unidades defectuosas? ¿Con qué variación?'",
            "text/latex": "'f) ¿Cuál es el número esperado de unidades defectuosas? ¿Con qué variación?'",
            "text/plain": [
              "[1] \"f) ¿Cuál es el número esperado de unidades defectuosas? ¿Con qué variación?\""
            ]
          },
          "metadata": {}
        },
        {
          "output_type": "display_data",
          "data": {
            "text/html": [
              "1.4905"
            ],
            "text/markdown": "1.4905",
            "text/latex": "1.4905",
            "text/plain": [
              "[1] 1.4905"
            ]
          },
          "metadata": {}
        },
        {
          "output_type": "display_data",
          "data": {
            "text/html": [
              "1.11347821414401"
            ],
            "text/markdown": "1.11347821414401",
            "text/latex": "1.11347821414401",
            "text/plain": [
              "[1] 1.113478"
            ]
          },
          "metadata": {}
        },
        {
          "output_type": "display_data",
          "data": {
            "text/plain": [
              "Plot with title “Distribución Binomial”"
            ],
            "image/png": "[encoded data removed]"
          },
          "metadata": {
            "image/png": {
              "width": 420,
              "height": 420
            }
          }
        }
      ]
    }
  ]
}