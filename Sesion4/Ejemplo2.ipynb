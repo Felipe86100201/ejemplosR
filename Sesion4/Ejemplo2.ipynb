{
  "nbformat": 4,
  "nbformat_minor": 0,
  "metadata": {
    "colab": {
      "provenance": [],
      "authorship_tag": "ABX9TyNnj7ODDNEKYTF+Z0hSnQaT",
      "include_colab_link": true
    },
    "kernelspec": {
      "name": "ir",
      "display_name": "R"
    },
    "language_info": {
      "name": "R"
    }
  },
  "cells": [
    {
      "cell_type": "markdown",
      "metadata": {
        "id": "view-in-github",
        "colab_type": "text"
      },
      "source": [
        "<a href=\"https://colab.research.google.com/github/caballeroarturo/ejemplosR/blob/main/Sesion4/Ejemplo2.ipynb\" target=\"_parent\"><img src=\"https://colab.research.google.com/assets/colab-badge.svg\" alt=\"Open In Colab\"/></a>"
      ]
    },
    {
      "cell_type": "markdown",
      "source": [
        "# Pre"
      ],
      "metadata": {
        "id": "GDr67J0ufYxQ"
      }
    },
    {
      "cell_type": "code",
      "source": [
        "install.packages(\"pacman\")\n",
        "pacman::p_load(dplyr)"
      ],
      "metadata": {
        "colab": {
          "base_uri": "https://localhost:8080/"
        },
        "id": "jRcd6mfsQleQ",
        "outputId": "b402c2e8-adb1-46a9-ccba-dd781918fb6d"
      },
      "execution_count": 1,
      "outputs": [
        {
          "output_type": "stream",
          "name": "stderr",
          "text": [
            "Installing package into ‘/usr/local/lib/R/site-library’\n",
            "(as ‘lib’ is unspecified)\n",
            "\n"
          ]
        }
      ]
    },
    {
      "cell_type": "markdown",
      "source": [
        "help(dpois)"
      ],
      "metadata": {
        "id": "a8LTF6qReV-U"
      }
    },
    {
      "cell_type": "code",
      "source": [
        "help(dpois)"
      ],
      "metadata": {
        "id": "Ua4HkYz2eedS"
      },
      "execution_count": 26,
      "outputs": []
    },
    {
      "cell_type": "markdown",
      "source": [
        "\n",
        "*   **d**pois: gives the (log) **density**\n",
        "*   **p**pois: gives the (log) **distribution** function\n",
        "*   **q**pois: gives the **quantile** function\n",
        "*   **r**pois: generates **random deviates**"
      ],
      "metadata": {
        "id": "6k-6sALdend5"
      }
    },
    {
      "cell_type": "markdown",
      "source": [
        "# EJEMPLO 02: DISTRIBUCIÓN DE POISSON Y EXPONENCIAL\n",
        "\"Si X es una variable alestoria tal que X representa el número de eventos que ocurren\n",
        "en un periodo de tiempo fijo, entonces X~Poisson(lambda), donde lambda es el número\n",
        "promedio de eventos en un intervalo de tiempo.\n",
        "\n",
        "\n",
        "---\n",
        "\n",
        "\n",
        "Por ejemplo, un ECommerce registra, en promedio, 8 órdenes de compra cada 30 minutos.\n",
        "¿Cuál es la probabilidad de que se registren 12 órdenes de compra en los siguientes 30 minutos?\"\n"
      ],
      "metadata": {
        "id": "5psMs6YTRGMp"
      }
    },
    {
      "cell_type": "code",
      "source": [
        "dpois(x = 12, lambda = 8)  # P(X=12); dado que X se distribuye Poisson(8)"
      ],
      "metadata": {
        "colab": {
          "base_uri": "https://localhost:8080/",
          "height": 34
        },
        "id": "k0hoTnbTQTsn",
        "outputId": "5931fb0d-e827-40bf-d3d5-aefac26b8afd"
      },
      "execution_count": 2,
      "outputs": [
        {
          "output_type": "display_data",
          "data": {
            "text/html": [
              "0.0481268042819567"
            ],
            "text/markdown": "0.0481268042819567",
            "text/latex": "0.0481268042819567",
            "text/plain": [
              "[1] 0.0481268"
            ]
          },
          "metadata": {}
        }
      ]
    },
    {
      "cell_type": "markdown",
      "source": [
        "Para nuestro ejemplo, la distribución de la variable aleatoria tiene la siguiente\n",
        "forma:"
      ],
      "metadata": {
        "id": "GRjmgDRmRk8k"
      }
    },
    {
      "cell_type": "code",
      "source": [
        "# Son 10mil repeticiones del experimento\n",
        "\n",
        "poisson <- rpois(n = 10000, lambda = 8)\n",
        "\n",
        "length(poisson)\n",
        "mean(poisson)\n",
        "#"
      ],
      "metadata": {
        "colab": {
          "base_uri": "https://localhost:8080/",
          "height": 52
        },
        "id": "qbtawodfT8N0",
        "outputId": "17e6a3ac-370e-4dd1-e251-5d402a475240"
      },
      "execution_count": 19,
      "outputs": [
        {
          "output_type": "display_data",
          "data": {
            "text/html": [
              "10000"
            ],
            "text/markdown": "10000",
            "text/latex": "10000",
            "text/plain": [
              "[1] 10000"
            ]
          },
          "metadata": {}
        },
        {
          "output_type": "display_data",
          "data": {
            "text/html": [
              "8.0083"
            ],
            "text/markdown": "8.0083",
            "text/latex": "8.0083",
            "text/plain": [
              "[1] 8.0083"
            ]
          },
          "metadata": {}
        }
      ]
    },
    {
      "cell_type": "code",
      "source": [
        "table(poisson)"
      ],
      "metadata": {
        "colab": {
          "base_uri": "https://localhost:8080/",
          "height": 104
        },
        "id": "UpQ5Uu2BUOQd",
        "outputId": "3c8d4e9b-5d3f-41f4-e33e-e8e1abc6df05"
      },
      "execution_count": 20,
      "outputs": [
        {
          "output_type": "display_data",
          "data": {
            "text/plain": [
              "poisson\n",
              "   0    1    2    3    4    5    6    7    8    9   10   11   12   13   14   15 \n",
              "   2   21  111  278  604  895 1207 1395 1355 1282 1011  750  465  273  173   90 \n",
              "  16   17   18   19   20 \n",
              "  50   22   11    3    2 "
            ]
          },
          "metadata": {}
        }
      ]
    },
    {
      "cell_type": "code",
      "source": [
        "\n",
        "barplot(table(poisson)/length(poisson),\n",
        "        main = \"Distribución de Poisson\",\n",
        "        xlab = \"X=x\",\n",
        "        ylab = \" Frecuencia\")"
      ],
      "metadata": {
        "colab": {
          "base_uri": "https://localhost:8080/",
          "height": 437
        },
        "id": "mTnfy2bvRmto",
        "outputId": "2ad45a36-29f8-44a5-987c-ab552d4e38ca"
      },
      "execution_count": 16,
      "outputs": [
        {
          "output_type": "display_data",
          "data": {
            "text/plain": [
              "Plot with title “Distribución de Poisson”"
            ],
            "image/png": "[encoded data removed]"
          },
          "metadata": {
            "image/png": {
              "width": 420,
              "height": 420
            }
          }
        }
      ]
    },
    {
      "cell_type": "markdown",
      "source": [
        "\n",
        "\n",
        "---\n",
        "\n"
      ],
      "metadata": {
        "id": "7NKyypXJUf_w"
      }
    },
    {
      "cell_type": "markdown",
      "source": [
        "Para una distribución de Possion tenemos que:\n",
        "\n",
        "    - E[X] = lambda\n",
        "    - SD[X] = sqrt(lambda)\n",
        "    \n",
        "Esto podemos comprobarlo con las funciones descriptivas que hemos visto:"
      ],
      "metadata": {
        "id": "gVifRM3ERphc"
      }
    },
    {
      "cell_type": "code",
      "source": [
        "mean(poisson)\n",
        "sd(poisson)"
      ],
      "metadata": {
        "colab": {
          "base_uri": "https://localhost:8080/",
          "height": 52
        },
        "id": "67yfi2eIRqjz",
        "outputId": "ca2d3b16-2dd4-40ef-bd8d-d516ff3fb562"
      },
      "execution_count": 21,
      "outputs": [
        {
          "output_type": "display_data",
          "data": {
            "text/html": [
              "8.0083"
            ],
            "text/markdown": "8.0083",
            "text/latex": "8.0083",
            "text/plain": [
              "[1] 8.0083"
            ]
          },
          "metadata": {}
        },
        {
          "output_type": "display_data",
          "data": {
            "text/html": [
              "2.82425720373965"
            ],
            "text/markdown": "2.82425720373965",
            "text/latex": "2.82425720373965",
            "text/plain": [
              "[1] 2.824257"
            ]
          },
          "metadata": {}
        }
      ]
    },
    {
      "cell_type": "markdown",
      "source": [
        "\n",
        "\n",
        "---\n",
        "\n"
      ],
      "metadata": {
        "id": "ekeB7pGaUtP2"
      }
    },
    {
      "cell_type": "markdown",
      "source": [
        "## Distribución exponencial"
      ],
      "metadata": {
        "id": "U31ZqAXgUp8e"
      }
    },
    {
      "cell_type": "markdown",
      "source": [
        "Relacionada a la distribución de Possion, está la distribución exponencial, la\n",
        "cual **modela la probabilidad del tiempo entre eventos de Poisson**. Como el tiempo es una variable aleatoria continua, la distribución exponencial pertence a la familia de funciones de distribución continuas.\n",
        "\n",
        "Esta distribución toma **un sólo parámetro, el número de eventos de Possion por unidad de tiempo**. Con nuestro ejemplo anterior, sabemos que, en promedio, se realizan 0.2667\n",
        "órdenes de compra por minuto."
      ],
      "metadata": {
        "id": "6k_z2cnrRsqf"
      }
    },
    {
      "cell_type": "code",
      "source": [
        "rate.exp <- 8/30\n",
        "rate.exp"
      ],
      "metadata": {
        "colab": {
          "base_uri": "https://localhost:8080/",
          "height": 34
        },
        "id": "_Au8I8I4RvTT",
        "outputId": "d268a838-986e-4724-a74d-e1983e2815f4"
      },
      "execution_count": 23,
      "outputs": [
        {
          "output_type": "display_data",
          "data": {
            "text/html": [
              "0.266666666666667"
            ],
            "text/markdown": "0.266666666666667",
            "text/latex": "0.266666666666667",
            "text/plain": [
              "[1] 0.2666667"
            ]
          },
          "metadata": {}
        }
      ]
    },
    {
      "cell_type": "code",
      "source": [
        "# ¿Cuál es la probabilidad de que tengan que pasar menos de 5 minutos hasta que se realice la siguiente orden de compra?\"\n",
        "pexp(q = 4, rate = rate.exp)"
      ],
      "metadata": {
        "colab": {
          "base_uri": "https://localhost:8080/",
          "height": 34
        },
        "id": "XiNQmawPR0Ku",
        "outputId": "7a8f2889-3123-4e75-dcb5-40a6097a79a0"
      },
      "execution_count": 7,
      "outputs": [
        {
          "output_type": "display_data",
          "data": {
            "text/html": [
              "0.655846213134588"
            ],
            "text/markdown": "0.655846213134588",
            "text/latex": "0.655846213134588",
            "text/plain": [
              "[1] 0.6558462"
            ]
          },
          "metadata": {}
        }
      ]
    },
    {
      "cell_type": "markdown",
      "source": [
        "\n",
        "\n",
        "---\n",
        "\n"
      ],
      "metadata": {
        "id": "NZc-u31gSRXo"
      }
    },
    {
      "cell_type": "markdown",
      "source": [
        "\"Para nuestro ejemplo, la distribución de la variable aleatoria tiene la siguiente\n",
        "forma:\""
      ],
      "metadata": {
        "id": "Mq3kRZBVSC1j"
      }
    },
    {
      "cell_type": "code",
      "source": [
        "\n",
        "curve(dexp(x, rate =rate.exp), from=0, to=15,\n",
        "      col='blue', main = \"Distribución exponencial\",\n",
        "      ylab = \"f(x)\", xlab = \"Tiempo entre eventos\")"
      ],
      "metadata": {
        "colab": {
          "base_uri": "https://localhost:8080/",
          "height": 437
        },
        "id": "_POWlTxaR-Yk",
        "outputId": "017deea5-84b4-4d90-906e-54004530e0c4"
      },
      "execution_count": 24,
      "outputs": [
        {
          "output_type": "display_data",
          "data": {
            "text/plain": [
              "Plot with title “Distribución exponencial”"
            ],
            "image/png": "[encoded data removed]"
          },
          "metadata": {
            "image/png": {
              "width": 420,
              "height": 420
            }
          }
        }
      ]
    },
    {
      "cell_type": "markdown",
      "source": [
        "Para una distribución de exponencial tenemos que:\n",
        "\n",
        "    - E[X] = 1/lambda\n",
        "    - SD[X] = sqrt(1/lambda**2)\n",
        "\n",
        "Esto podemos comprobarlo con las funciones descriptivas que hemos visto:\""
      ],
      "metadata": {
        "id": "nR-ncCSHSErk"
      }
    },
    {
      "cell_type": "code",
      "source": [
        "\n",
        "expon <- rexp(n = 1000, rate = rate.exp)\n",
        "mean(expon)\n",
        "sd(expon)"
      ],
      "metadata": {
        "colab": {
          "base_uri": "https://localhost:8080/",
          "height": 52
        },
        "id": "jiMjTs1mR_BB",
        "outputId": "df14a1eb-8597-4e39-cdf8-f6bcad7582fc"
      },
      "execution_count": 25,
      "outputs": [
        {
          "output_type": "display_data",
          "data": {
            "text/html": [
              "3.6890463390589"
            ],
            "text/markdown": "3.6890463390589",
            "text/latex": "3.6890463390589",
            "text/plain": [
              "[1] 3.689046"
            ]
          },
          "metadata": {}
        },
        {
          "output_type": "display_data",
          "data": {
            "text/html": [
              "3.70866997794491"
            ],
            "text/markdown": "3.70866997794491",
            "text/latex": "3.70866997794491",
            "text/plain": [
              "[1] 3.70867"
            ]
          },
          "metadata": {}
        }
      ]
    },
    {
      "cell_type": "markdown",
      "source": [],
      "metadata": {
        "id": "z0o4cbbbRxNw"
      }
    }
  ]
}