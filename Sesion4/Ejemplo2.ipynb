{
  "nbformat": 4,
  "nbformat_minor": 0,
  "metadata": {
    "colab": {
      "provenance": [],
      "authorship_tag": "ABX9TyOzKkr+VOgcjDFy8XxNwJRE",
      "include_colab_link": true
    },
    "kernelspec": {
      "name": "ir",
      "display_name": "R"
    },
    "language_info": {
      "name": "R"
    }
  },
  "cells": [
    {
      "cell_type": "markdown",
      "metadata": {
        "id": "view-in-github",
        "colab_type": "text"
      },
      "source": [
        "<a href=\"https://colab.research.google.com/github/caballeroarturo/ejemplosR/blob/main/Sesion4/Ejemplo2.ipynb\" target=\"_parent\"><img src=\"https://colab.research.google.com/assets/colab-badge.svg\" alt=\"Open In Colab\"/></a>"
      ]
    },
    {
      "cell_type": "code",
      "source": [
        "install.packages(\"pacman\")\n",
        "pacman::p_load(dplyr)"
      ],
      "metadata": {
        "colab": {
          "base_uri": "https://localhost:8080/"
        },
        "id": "jRcd6mfsQleQ",
        "outputId": "b402c2e8-adb1-46a9-ccba-dd781918fb6d"
      },
      "execution_count": 1,
      "outputs": [
        {
          "output_type": "stream",
          "name": "stderr",
          "text": [
            "Installing package into ‘/usr/local/lib/R/site-library’\n",
            "(as ‘lib’ is unspecified)\n",
            "\n"
          ]
        }
      ]
    },
    {
      "cell_type": "markdown",
      "source": [
        "## EJEMPLO 02: DISTRIBUCIÓN DE POISSON Y EXPONENCIAL\n",
        "\"Si X es una variable alestoria tal que X representa el número de eventos que ocurren\n",
        "en un periodo de tiempo fijo, entonces X~Poisson(lambda), donde lambda es el número\n",
        "promedio de eventos en un intervalo de tiempo.\n",
        "\n",
        "Por ejemplo, un ECommerce registra, en promedio, 8 órdenes de compra cada 30 minutos.\n",
        "¿Cuál es la probabilidad de que se registren 12 órdenes de compra en los siguientes 30 minutos?\"\n"
      ],
      "metadata": {
        "id": "5psMs6YTRGMp"
      }
    },
    {
      "cell_type": "code",
      "source": [
        "dpois(x = 12, lambda = 8)"
      ],
      "metadata": {
        "colab": {
          "base_uri": "https://localhost:8080/",
          "height": 34
        },
        "id": "k0hoTnbTQTsn",
        "outputId": "5931fb0d-e827-40bf-d3d5-aefac26b8afd"
      },
      "execution_count": 2,
      "outputs": [
        {
          "output_type": "display_data",
          "data": {
            "text/html": [
              "0.0481268042819567"
            ],
            "text/markdown": "0.0481268042819567",
            "text/latex": "0.0481268042819567",
            "text/plain": [
              "[1] 0.0481268"
            ]
          },
          "metadata": {}
        }
      ]
    },
    {
      "cell_type": "markdown",
      "source": [
        "Para nuestro ejemplo, la distribución de la variable aleatoria tiene la siguiente\n",
        "forma:"
      ],
      "metadata": {
        "id": "GRjmgDRmRk8k"
      }
    },
    {
      "cell_type": "code",
      "source": [
        "poisson <- rpois(n = 10000, lambda = 8)\n",
        "barplot(table(poisson)/length(poisson),\n",
        "        main = \"Distribución de Poisson\",\n",
        "        xlab = \"X=x\")"
      ],
      "metadata": {
        "colab": {
          "base_uri": "https://localhost:8080/",
          "height": 437
        },
        "id": "mTnfy2bvRmto",
        "outputId": "facdf6cf-4e96-4e90-a437-8f541421aede"
      },
      "execution_count": 3,
      "outputs": [
        {
          "output_type": "display_data",
          "data": {
            "text/plain": [
              "Plot with title “Distribución de Poisson”"
            ],
            "image/png": "[encoded data removed]"
          },
          "metadata": {
            "image/png": {
              "width": 420,
              "height": 420
            }
          }
        }
      ]
    },
    {
      "cell_type": "markdown",
      "source": [
        "Para una distribución de Possion tenemos que:\n",
        "    - E[X] = lambda\n",
        "    - SD[X] = sqrt(lambda)\n",
        "Esto podemos comprobarlo con las funciones descriptivas que hemos visto:"
      ],
      "metadata": {
        "id": "gVifRM3ERphc"
      }
    },
    {
      "cell_type": "code",
      "source": [
        "mean(poisson)\n",
        "sd(poisson)"
      ],
      "metadata": {
        "colab": {
          "base_uri": "https://localhost:8080/",
          "height": 52
        },
        "id": "67yfi2eIRqjz",
        "outputId": "90c87982-74c7-4f9d-ca65-38c87b6d8a5c"
      },
      "execution_count": 4,
      "outputs": [
        {
          "output_type": "display_data",
          "data": {
            "text/html": [
              "7.9675"
            ],
            "text/markdown": "7.9675",
            "text/latex": "7.9675",
            "text/plain": [
              "[1] 7.9675"
            ]
          },
          "metadata": {}
        },
        {
          "output_type": "display_data",
          "data": {
            "text/html": [
              "2.84897444978742"
            ],
            "text/markdown": "2.84897444978742",
            "text/latex": "2.84897444978742",
            "text/plain": [
              "[1] 2.848974"
            ]
          },
          "metadata": {}
        }
      ]
    },
    {
      "cell_type": "markdown",
      "source": [
        "Relacionada a la distribución de Possion, está la distribución exponencial, la\n",
        "cual modela la probabilidad del tiempo entre eventos de Poisson. Como el tiempo es\n",
        "una variable aleatoria continua, la distribución exponencial pertence a la familia\n",
        "de funciones de distribución continuas.\n",
        "\n",
        "Esta distribución toma un sólo parámetro, el número de eventos de Possion por unidad\n",
        "de tiempo. Con nuestro ejemplo anterior, sabemos que, en promedio, se realizan 0.2667\n",
        "órdenes de compra por minuto."
      ],
      "metadata": {
        "id": "6k_z2cnrRsqf"
      }
    },
    {
      "cell_type": "code",
      "source": [
        "rate.exp <- 8/30\n",
        "rate.exp"
      ],
      "metadata": {
        "colab": {
          "base_uri": "https://localhost:8080/",
          "height": 34
        },
        "id": "_Au8I8I4RvTT",
        "outputId": "6e9133bb-8bdc-4e3e-e8af-9cc2bc16a6be"
      },
      "execution_count": 5,
      "outputs": [
        {
          "output_type": "display_data",
          "data": {
            "text/html": [
              "0.266666666666667"
            ],
            "text/markdown": "0.266666666666667",
            "text/latex": "0.266666666666667",
            "text/plain": [
              "[1] 0.2666667"
            ]
          },
          "metadata": {}
        }
      ]
    },
    {
      "cell_type": "code",
      "source": [
        "# ¿Cuál es la probabilidad de que tengan que pasar menos de 5 minutos hasta que se realice la siguiente orden de compra?\"\n",
        "pexp(q = 4, rate = rate.exp)"
      ],
      "metadata": {
        "colab": {
          "base_uri": "https://localhost:8080/",
          "height": 34
        },
        "id": "XiNQmawPR0Ku",
        "outputId": "7a8f2889-3123-4e75-dcb5-40a6097a79a0"
      },
      "execution_count": 7,
      "outputs": [
        {
          "output_type": "display_data",
          "data": {
            "text/html": [
              "0.655846213134588"
            ],
            "text/markdown": "0.655846213134588",
            "text/latex": "0.655846213134588",
            "text/plain": [
              "[1] 0.6558462"
            ]
          },
          "metadata": {}
        }
      ]
    },
    {
      "cell_type": "markdown",
      "source": [
        "\n",
        "\n",
        "---\n",
        "\n"
      ],
      "metadata": {
        "id": "NZc-u31gSRXo"
      }
    },
    {
      "cell_type": "markdown",
      "source": [
        "\"Para nuestro ejemplo, la distribución de la variable aleatoria tiene la siguiente\n",
        "forma:\""
      ],
      "metadata": {
        "id": "Mq3kRZBVSC1j"
      }
    },
    {
      "cell_type": "code",
      "source": [
        "\n",
        "curve(dexp(x, rate =rate.exp), from=0, to=15,\n",
        "      col='blue', main = \"Distribución exponencial\",\n",
        "      ylab = \"f(x)\", xlab = \"Tiempo entre eventos\")"
      ],
      "metadata": {
        "colab": {
          "base_uri": "https://localhost:8080/",
          "height": 437
        },
        "id": "_POWlTxaR-Yk",
        "outputId": "f803d40a-9fc6-4b49-eca4-ca0206fa8a58"
      },
      "execution_count": 8,
      "outputs": [
        {
          "output_type": "display_data",
          "data": {
            "text/plain": [
              "Plot with title “Distribución exponencial”"
            ],
            "image/png": "[encoded data removed]"
          },
          "metadata": {
            "image/png": {
              "width": 420,
              "height": 420
            }
          }
        }
      ]
    },
    {
      "cell_type": "markdown",
      "source": [
        "Para una distribución de exponencial tenemos que:\n",
        "    - E[X] = 1/lambda\n",
        "    - SD[X] = sqrt(1/lambda**2)\n",
        "\n",
        "Esto podemos comprobarlo con las funciones descriptivas que hemos visto:\""
      ],
      "metadata": {
        "id": "nR-ncCSHSErk"
      }
    },
    {
      "cell_type": "code",
      "source": [
        "\n",
        "expon <- rexp(n = 1000, rate = rate.exp)\n",
        "mean(expon)\n",
        "sd(expon)"
      ],
      "metadata": {
        "colab": {
          "base_uri": "https://localhost:8080/",
          "height": 52
        },
        "id": "jiMjTs1mR_BB",
        "outputId": "aff936a0-7c78-4119-e3fa-8ec818169d1f"
      },
      "execution_count": 9,
      "outputs": [
        {
          "output_type": "display_data",
          "data": {
            "text/html": [
              "3.69159224748794"
            ],
            "text/markdown": "3.69159224748794",
            "text/latex": "3.69159224748794",
            "text/plain": [
              "[1] 3.691592"
            ]
          },
          "metadata": {}
        },
        {
          "output_type": "display_data",
          "data": {
            "text/html": [
              "3.56370514842442"
            ],
            "text/markdown": "3.56370514842442",
            "text/latex": "3.56370514842442",
            "text/plain": [
              "[1] 3.563705"
            ]
          },
          "metadata": {}
        }
      ]
    },
    {
      "cell_type": "markdown",
      "source": [],
      "metadata": {
        "id": "z0o4cbbbRxNw"
      }
    }
  ]
}